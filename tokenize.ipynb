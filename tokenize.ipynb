{
  "cells": [
    {
      "cell_type": "markdown",
      "metadata": {
        "id": "view-in-github",
        "colab_type": "text"
      },
      "source": [
        "<a href=\"https://colab.research.google.com/github/Deltan2002/NLTK/blob/main/tokenize.ipynb\" target=\"_parent\"><img src=\"https://colab.research.google.com/assets/colab-badge.svg\" alt=\"Open In Colab\"/></a>"
      ]
    },
    {
      "cell_type": "code",
      "execution_count": null,
      "id": "79813865",
      "metadata": {
        "id": "79813865"
      },
      "outputs": [],
      "source": [
        "!pip install --user -U nltk\n",
        "!python -m nltk.downloader all"
      ]
    },
    {
      "cell_type": "code",
      "execution_count": 2,
      "id": "10db5d51",
      "metadata": {
        "id": "10db5d51"
      },
      "outputs": [],
      "source": [
        "from nltk.tokenize import sent_tokenize, word_tokenize"
      ]
    },
    {
      "cell_type": "code",
      "execution_count": 9,
      "id": "981f8bf1",
      "metadata": {
        "colab": {
          "base_uri": "https://localhost:8080/"
        },
        "id": "981f8bf1",
        "outputId": "700803d0-1401-4a5c-81e3-0d573c16db82"
      },
      "outputs": [
        {
          "output_type": "stream",
          "name": "stdout",
          "text": [
            "['hello there, how are you?']\n",
            "['hello', 'there', ',', 'how', 'are', 'you', '?']\n"
          ]
        }
      ],
      "source": [
        "text = 'hello there, how are you?'\n",
        "print(sent_tokenize(text))\n",
        "print(word_tokenize(text))"
      ]
    },
    {
      "cell_type": "code",
      "source": [
        "for i in word_tokenize(text):\n",
        "  print(i)"
      ],
      "metadata": {
        "colab": {
          "base_uri": "https://localhost:8080/"
        },
        "id": "p3-4Ls2zbmWE",
        "outputId": "67b57c91-0947-4d6a-cde7-cf4c19c17706"
      },
      "id": "p3-4Ls2zbmWE",
      "execution_count": 10,
      "outputs": [
        {
          "output_type": "stream",
          "name": "stdout",
          "text": [
            "hello\n",
            "there\n",
            ",\n",
            "how\n",
            "are\n",
            "you\n",
            "?\n"
          ]
        }
      ]
    }
  ],
  "metadata": {
    "kernelspec": {
      "display_name": "Python 3 (ipykernel)",
      "language": "python",
      "name": "python3"
    },
    "language_info": {
      "codemirror_mode": {
        "name": "ipython",
        "version": 3
      },
      "file_extension": ".py",
      "mimetype": "text/x-python",
      "name": "python",
      "nbconvert_exporter": "python",
      "pygments_lexer": "ipython3",
      "version": "3.9.13"
    },
    "colab": {
      "provenance": [],
      "include_colab_link": true
    }
  },
  "nbformat": 4,
  "nbformat_minor": 5
}